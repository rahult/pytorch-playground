{
 "metadata": {
  "language_info": {
   "codemirror_mode": {
    "name": "ipython",
    "version": 3
   },
   "file_extension": ".py",
   "mimetype": "text/x-python",
   "name": "python",
   "nbconvert_exporter": "python",
   "pygments_lexer": "ipython3",
   "version": "3.8.5-final"
  },
  "orig_nbformat": 2,
  "kernelspec": {
   "name": "python38564bitpytorchpipenvf5ac85f6149840a8b4e5de97f0bb61e8",
   "display_name": "Python 3.8.5 64-bit ('pytorch': pipenv)"
  }
 },
 "nbformat": 4,
 "nbformat_minor": 2,
 "cells": [
  {
   "cell_type": "code",
   "execution_count": 4,
   "metadata": {},
   "outputs": [],
   "source": [
    "import torch\n",
    "import torch.nn as nn"
   ]
  },
  {
   "cell_type": "code",
   "execution_count": 5,
   "metadata": {},
   "outputs": [],
   "source": [
    "# 1) Design Model (input, output size, forward pass)\n",
    "# 2) Construct loss and optimiser\n",
    "# 3) Training loop\n",
    "#    - forward pass: compute prediction\n",
    "#    - backward pass: gradients\n",
    "#    - update weights"
   ]
  },
  {
   "cell_type": "code",
   "execution_count": 29,
   "metadata": {
    "tags": []
   },
   "outputs": [
    {
     "output_type": "stream",
     "name": "stdout",
     "text": "Prediction before training: f(5) = -3.335\nepoch  0, w = -0.248, loss = 53.79325867\nepoch 10, w = 1.437, loss = 1.47386694\nepoch 20, w = 1.714, loss = 0.11545993\nepoch 30, w = 1.765, loss = 0.07581376\nepoch 40, w = 1.778, loss = 0.07054920\nepoch 50, w = 1.786, loss = 0.06642080\nepoch 60, w = 1.792, loss = 0.06255417\nepoch 70, w = 1.799, loss = 0.05891319\nepoch 80, w = 1.805, loss = 0.05548416\nepoch 90, w = 1.810, loss = 0.05225471\nepoch 100, w = 1.816, loss = 0.04921323\nepoch 110, w = 1.821, loss = 0.04634874\nepoch 120, w = 1.827, loss = 0.04365103\nepoch 130, w = 1.832, loss = 0.04111030\nepoch 140, w = 1.837, loss = 0.03871746\nPrediction after training: f(5) = 9.673\n"
    }
   ],
   "source": [
    "X = torch.tensor([[1],[2],[3],[4]], dtype=torch.float32)\n",
    "\n",
    "# f = w * x\n",
    "# f = 2 * x\n",
    "Y = torch.tensor([[2],[4],[6],[8]], dtype=torch.float32)\n",
    "\n",
    "X_test = torch.tensor([5], dtype=torch.float32)\n",
    "\n",
    "n_samples, n_features = X.shape\n",
    "\n",
    "input_size = n_features\n",
    "output_size = n_features\n",
    "\n",
    "class LinearRegression(nn.Module):\n",
    "\n",
    "    def __init__(self, input_dim, output_dim):\n",
    "        super(LinearRegression, self).__init__()\n",
    "        # define layers\n",
    "        self.lin = nn.Linear(input_dim, output_dim)\n",
    "\n",
    "    def forward(self, x):\n",
    "        return self.lin(x)\n",
    "\n",
    "# model = nn.Linear(input_size, output_size)\n",
    "model = LinearRegression(input_size, output_size)\n",
    "\n",
    "print(f'Prediction before training: f(5) = {model(X_test).item():.3f}')\n",
    "\n",
    "# Training\n",
    "learning_rate = 0.01\n",
    "n_iters = 150\n",
    "epoch_print = 10\n",
    "\n",
    "loss = nn.MSELoss()\n",
    "optimiser = torch.optim.SGD(model.parameters(), lr=learning_rate)\n",
    "\n",
    "for epoch in range(n_iters):\n",
    "    # prediction = forward pass\n",
    "    y_pred = model(X)\n",
    "\n",
    "    # loss\n",
    "    l = loss(Y, y_pred)\n",
    "\n",
    "    # gradients = backward pass\n",
    "    l.backward() # dl/dw\n",
    "\n",
    "    # update weight\n",
    "    optimiser.step()\n",
    "    \n",
    "    # zero gradients\n",
    "    optimiser.zero_grad()\n",
    "\n",
    "    if epoch % epoch_print == 0:\n",
    "        [w, b] = model.parameters()\n",
    "        print(f'epoch {epoch:2d}, w = {w[0][0]:.3f}, loss = {l:.8f}')\n",
    "\n",
    "print(f'Prediction after training: f(5) = {model(X_test).item():.3f}')"
   ]
  },
  {
   "cell_type": "code",
   "execution_count": null,
   "metadata": {},
   "outputs": [],
   "source": []
  }
 ]
}