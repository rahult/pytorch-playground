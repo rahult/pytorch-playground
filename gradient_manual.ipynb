{
 "metadata": {
  "language_info": {
   "codemirror_mode": {
    "name": "ipython",
    "version": 3
   },
   "file_extension": ".py",
   "mimetype": "text/x-python",
   "name": "python",
   "nbconvert_exporter": "python",
   "pygments_lexer": "ipython3",
   "version": "3.8.5-final"
  },
  "orig_nbformat": 2,
  "kernelspec": {
   "name": "python38564bitpytorchpipenvf5ac85f6149840a8b4e5de97f0bb61e8",
   "display_name": "Python 3.8.5 64-bit ('pytorch': pipenv)"
  }
 },
 "nbformat": 4,
 "nbformat_minor": 2,
 "cells": [
  {
   "cell_type": "code",
   "execution_count": 31,
   "metadata": {},
   "outputs": [],
   "source": [
    "import numpy as np"
   ]
  },
  {
   "cell_type": "code",
   "execution_count": 60,
   "metadata": {
    "tags": []
   },
   "outputs": [
    {
     "output_type": "stream",
     "name": "stdout",
     "text": "Prediction before training: f()\nepoch 0\n\ty_pred = [0. 0. 0. 0.], loss = 30.00000000, gradient = -120.0\n\tw = 1.200, loss = 30.00000000\nepoch 2\n\ty_pred = [1.68 3.36 5.04 6.72], loss = 0.76800019, gradient = -19.200002670288086\n\tw = 1.872, loss = 0.76800019\nepoch 4\n\ty_pred = [1.9488 3.8976 5.8464 7.7952], loss = 0.01966083, gradient = -3.072002649307251\n\tw = 1.980, loss = 0.01966083\nepoch 6\n\ty_pred = [1.991808  3.983616  5.9754243 7.967232 ], loss = 0.00050331, gradient = -0.4915158748626709\n\tw = 1.997, loss = 0.00050331\nepoch 8\n\ty_pred = [1.9986893 3.9973786 5.996068  7.994757 ], loss = 0.00001288, gradient = -0.07864165306091309\n\tw = 1.999, loss = 0.00001288\nepoch 10\n\ty_pred = [1.9997903 3.9995806 5.999371  7.9991612], loss = 0.00000033, gradient = -0.012580633163452148\n\tw = 2.000, loss = 0.00000033\nepoch 12\n\ty_pred = [1.9999664 3.9999328 5.999899  7.9998655], loss = 0.00000001, gradient = -0.002018451690673828\n\tw = 2.000, loss = 0.00000001\nepoch 14\n\ty_pred = [1.9999946 3.9999893 5.999984  7.9999785], loss = 0.00000000, gradient = -0.00032258033752441406\n\tw = 2.000, loss = 0.00000000\nepoch 16\n\ty_pred = [1.9999992 3.9999983 5.9999976 7.9999967], loss = 0.00000000, gradient = -4.935264587402344e-05\n\tw = 2.000, loss = 0.00000000\nepoch 18\n\ty_pred = [1.9999999 3.9999998 5.9999995 7.9999995], loss = 0.00000000, gradient = -7.867813110351562e-06\n\tw = 2.000, loss = 0.00000000\nPrediction after training: f(5) = 10.000\n"
    }
   ],
   "source": [
    "X = np.array([1,2,3,4], dtype=np.float32)\n",
    "\n",
    "# f = w * x\n",
    "# f = 2 * x\n",
    "Y = np.array([2,4,6,8], dtype=np.float32)\n",
    "\n",
    "# starting weight\n",
    "w = 0.0\n",
    "\n",
    "# Model Prediction\n",
    "def forward(x):\n",
    "    return w * x\n",
    "\n",
    "# loss = MSE (Mean Squared Error)\n",
    "def loss(y, y_predicted):\n",
    "    return ((y_predicted - y) ** 2).mean()\n",
    "    \n",
    "# gradient\n",
    "# MSE = 1/N * (w*x - y)**2\n",
    "# dJ/dw = 1/N 2x (w*x - y)\n",
    "def gradient(x, y, y_predicted):\n",
    "    return np.dot(2*x, y_predicted - y).mean()\n",
    "\n",
    "print(f'Prediction before training: f()')\n",
    "\n",
    "# Training\n",
    "learning_rate = 0.01\n",
    "n_iters = 20\n",
    "epoch_print = 2\n",
    "\n",
    "for epoch in range(n_iters):\n",
    "    # prediction = forward pass\n",
    "    y_pred = forward(X)\n",
    "\n",
    "    # loss\n",
    "    l = loss(Y, y_pred)\n",
    "\n",
    "    # gradients\n",
    "    dw = gradient(X, Y, y_pred)\n",
    "\n",
    "    # update weight\n",
    "    w -= learning_rate * dw\n",
    "\n",
    "    if epoch % epoch_print == 0:\n",
    "        print(f'epoch {epoch}')\n",
    "        print(f'\\ty_pred = {y_pred}, loss = {l:.8f}, gradient = {dw}')\n",
    "        print(f'\\tw = {w:.3f}, loss = {l:.8f}')\n",
    "\n",
    "print(f'Prediction after training: f(5) = {forward(5):.3f}')"
   ]
  },
  {
   "cell_type": "code",
   "execution_count": null,
   "metadata": {},
   "outputs": [],
   "source": []
  }
 ]
}